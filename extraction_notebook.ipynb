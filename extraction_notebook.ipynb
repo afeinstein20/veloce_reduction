{
 "cells": [
  {
   "cell_type": "code",
   "execution_count": 18,
   "metadata": {},
   "outputs": [
    {
     "name": "stdout",
     "output_type": "stream",
     "text": [
      "The autoreload extension is already loaded. To reload it, use:\n",
      "  %reload_ext autoreload\n"
     ]
    }
   ],
   "source": [
    "import os, sys\n",
    "import numpy as np\n",
    "import ccdproc as ccdp\n",
    "from tqdm import tqdm_notebook\n",
    "from astropy.io import fits\n",
    "import matplotlib.pyplot as plt\n",
    "\n",
    "%load_ext autoreload\n",
    "%autoreload 2\n",
    "sys.path.append('/Users/arcticfox/Documents/GitHub/veloce_reduction')\n",
    "from veloce_reduction.calibration import crop_overscan_region\n",
    "from veloce_reduction.calibration import correct_for_bias_and_dark_from_filename\n",
    "gain = [0.88,0.93,0.99,0.93]"
   ]
  },
  {
   "cell_type": "code",
   "execution_count": 2,
   "metadata": {},
   "outputs": [],
   "source": [
    "path = '/Users/arcticfox/Documents/youngStars/veloce/spectra/fitsfiles'\n",
    "outpath = '/Users/arcticfox/Documents/youngStars/veloce/spectra/extracted'"
   ]
  },
  {
   "cell_type": "code",
   "execution_count": 3,
   "metadata": {},
   "outputs": [],
   "source": [
    "science_frames = np.loadtxt(os.path.join(path,'itsfiles_stellar_list.txt'), dtype='U32')"
   ]
  },
  {
   "cell_type": "code",
   "execution_count": 19,
   "metadata": {},
   "outputs": [],
   "source": [
    "date = '08nov'\n",
    "stripe_masks = np.load(os.path.join(path,'{0}_stripe_masks.npy'.format(date)), \n",
    "                       allow_pickle=True).item()\n",
    "frames = np.sort([os.path.join(path, i) for i in science_frames if date in i])\n",
    "bias = fits.open(os.path.join(path, '{0}_master_bias.fits'.format(date)))[0].data+0.0\n",
    "readnoise = fits.open(os.path.join(path, '{0}_read_noise_mask.fits'.format(date)))[0].data + 0.0\n",
    "\n",
    "bias = crop_overscan_region(bias)\n",
    "readnoise = crop_overscan_region(readnoise)\n",
    "\n",
    "order_keys = sorted(stripe_masks.keys())"
   ]
  },
  {
   "cell_type": "code",
   "execution_count": null,
   "metadata": {},
   "outputs": [
    {
     "data": {
      "application/vnd.jupyter.widget-view+json": {
       "model_id": "1ea6d11df64741e6b19cc30f4ae5cff6",
       "version_major": 2,
       "version_minor": 0
      },
      "text/plain": [
       "HBox(children=(IntProgress(value=0, max=23), HTML(value='')))"
      ]
     },
     "metadata": {},
     "output_type": "display_data"
    }
   ],
   "source": [
    "new_files = []\n",
    "\n",
    "for i in tqdm_notebook(range(len(frames))):\n",
    "    hdu = fits.open(frames[i])\n",
    "\n",
    "    if 'TIC' in hdu[0].header['OBJECT']:\n",
    "        outfn = frames[i].split('/')[-1][:-5]+'_spectra.npy'\n",
    "        #data = crop_overscan_region(hdu[0].data + 0.0)\n",
    "\n",
    "        spectra = {}\n",
    "        \n",
    "        exptime = int(hdu[0].header['EXPOSED'])\n",
    "        dark =  fits.open(os.path.join(path,\n",
    "                                       '{0}_master_dark_t{1}.fits'.format(date, exptime)))[0].data\n",
    "        \n",
    "        pipeline_corrected = correct_for_bias_and_dark_from_filename(frames[i],\n",
    "                                                                     MB=bias,\n",
    "                                                                     MD=dark,\n",
    "                                                                     gain=gain,\n",
    "                                                                     path=path)\n",
    "        removed_crs = ccdp.cosmicray_lacosmic(pipeline_corrected, sigclip=5)\n",
    "\n",
    "        for key in order_keys:\n",
    "            spectra[key] = np.nansum(removed_crs[0]*stripe_masks[key], axis=0)\n",
    "\n",
    "        np.save(os.path.join(outpath, outfn), spectra)\n",
    "        new_files.append(os.path.join(outpath, outfn))\n",
    "    hdu.close()   "
   ]
  },
  {
   "cell_type": "code",
   "execution_count": 17,
   "metadata": {},
   "outputs": [
    {
     "data": {
      "text/plain": [
       "[<matplotlib.lines.Line2D at 0x1bb985160>]"
      ]
     },
     "execution_count": 17,
     "metadata": {},
     "output_type": "execute_result"
    },
    {
     "data": {
      "image/png": "[encoded data removed]",
      "text/plain": [
       "<Figure size 432x288 with 1 Axes>"
      ]
     },
     "metadata": {
      "needs_background": "light"
     },
     "output_type": "display_data"
    }
   ],
   "source": [
    "plt.plot(spectra['order_30'])"
   ]
  },
  {
   "cell_type": "code",
   "execution_count": null,
   "metadata": {},
   "outputs": [],
   "source": []
  }
 ],
 "metadata": {
  "kernelspec": {
   "display_name": "Python 3",
   "language": "python",
   "name": "python3"
  },
  "language_info": {
   "codemirror_mode": {
    "name": "ipython",
    "version": 3
   },
   "file_extension": ".py",
   "mimetype": "text/x-python",
   "name": "python",
   "nbconvert_exporter": "python",
   "pygments_lexer": "ipython3",
   "version": "3.7.3"
  }
 },
 "nbformat": 4,
 "nbformat_minor": 2
}
