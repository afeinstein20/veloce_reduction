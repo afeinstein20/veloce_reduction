{
 "cells": [
  {
   "cell_type": "code",
   "execution_count": 6,
   "metadata": {},
   "outputs": [
    {
     "name": "stdout",
     "output_type": "stream",
     "text": [
      "The autoreload extension is already loaded. To reload it, use:\n",
      "  %reload_ext autoreload\n"
     ]
    }
   ],
   "source": [
    "import os\n",
    "import sys\n",
    "import numpy as np\n",
    "from astropy.io import fits\n",
    "import matplotlib.pyplot as plt\n",
    "\n",
    "%load_ext autoreload\n",
    "%autoreload 2\n",
    "from veloce_reduction.calibration import *\n",
    "from veloce_reduction.get_info_from_headers import *\n",
    "from veloce_reduction.process_scripts import *\n",
    "from veloce_reduction.order_tracing import *\n",
    "from veloce_reduction.spatial_profiles import *\n",
    "from veloce_reduction.wavelength_solution import *\n",
    "from veloce_reduction.chipmasks import make_chipmask"
   ]
  },
  {
   "cell_type": "code",
   "execution_count": 2,
   "metadata": {},
   "outputs": [],
   "source": [
    "path = '/Users/arcticfox/Documents/youngStars/veloce/spectra/fitsfiles/'\n",
    "fitsfiles = np.sort([os.path.join(path, i) for i in os.listdir(path)\n",
    "                     if i.endswith('.fits')])\n",
    "i = 100\n",
    "hdu = fits.open(fitsfiles[i])\n",
    "data = hdu[0].data\n",
    "hdu[0].header['OBJECT']\n",
    "nx, ny = data.shape[0], data.shape[1]\n",
    "\n",
    "hdu.close()"
   ]
  },
  {
   "cell_type": "code",
   "execution_count": 3,
   "metadata": {},
   "outputs": [],
   "source": [
    "gain = [0.88,0.93,0.99,0.93]\n",
    "\n",
    "acq_list, bias_list, dark_list, flat_list, arc_list, simth_only_list, laser_only_list, laser_and_simth_list, stellar_list, unknown_list = get_obstype_lists(path)\n",
    "\n",
    "file_lists = {'acq':acq_list, 'bias':bias_list, \n",
    "              'dark':dark_list, 'flat':flat_list, \n",
    "              'arc':arc_list, 'simth_only':simth_only_list, \n",
    "              'laser_only':laser_only_list, \n",
    "              'laser_and_simth':laser_and_simth_list, \n",
    "              'stellar':stellar_list, \n",
    "              'unknown':unknown_list}"
   ]
  },
  {
   "cell_type": "markdown",
   "metadata": {},
   "source": [
    "### Assign Inds"
   ]
  },
  {
   "cell_type": "code",
   "execution_count": 4,
   "metadata": {},
   "outputs": [],
   "source": [
    "date = '09nov'\n",
    "files_on_date = {}\n",
    "for key in list(file_lists.keys()):\n",
    "    files_on_date[key] = np.sort([i for i in file_lists[key] if\n",
    "                                  date in i])"
   ]
  },
  {
   "cell_type": "markdown",
   "metadata": {},
   "source": [
    "### Med Bias frame"
   ]
  },
  {
   "cell_type": "code",
   "execution_count": 5,
   "metadata": {},
   "outputs": [
    {
     "name": "stdout",
     "output_type": "stream",
     "text": [
      "Determining offset levels and read-out noise properties from bias frames for 4 quadrants...\n",
      "name ==  /Users/arcticfox/Documents/youngStars/veloce/spectra/fitsfiles/09nov30001.fits\n",
      "name ==  /Users/arcticfox/Documents/youngStars/veloce/spectra/fitsfiles/09nov30002.fits\n",
      "name ==  /Users/arcticfox/Documents/youngStars/veloce/spectra/fitsfiles/09nov30005.fits\n",
      "name ==  /Users/arcticfox/Documents/youngStars/veloce/spectra/fitsfiles/09nov30046.fits\n",
      "name ==  /Users/arcticfox/Documents/youngStars/veloce/spectra/fitsfiles/09nov30048.fits\n",
      "name ==  /Users/arcticfox/Documents/youngStars/veloce/spectra/fitsfiles/09nov30049.fits\n",
      "name ==  /Users/arcticfox/Documents/youngStars/veloce/spectra/fitsfiles/09nov30050.fits\n",
      "name ==  /Users/arcticfox/Documents/youngStars/veloce/spectra/fitsfiles/09nov30051.fits\n",
      "name ==  /Users/arcticfox/Documents/youngStars/veloce/spectra/fitsfiles/09nov30052.fits\n",
      "name ==  /Users/arcticfox/Documents/youngStars/veloce/spectra/fitsfiles/09nov30053.fits\n",
      "name ==  /Users/arcticfox/Documents/youngStars/veloce/spectra/fitsfiles/09nov30054.fits\n",
      "name ==  /Users/arcticfox/Documents/youngStars/veloce/spectra/fitsfiles/09nov30055.fits\n",
      "name ==  /Users/arcticfox/Documents/youngStars/veloce/spectra/fitsfiles/09nov30252.fits\n",
      "name ==  /Users/arcticfox/Documents/youngStars/veloce/spectra/fitsfiles/09nov30253.fits\n",
      "name ==  /Users/arcticfox/Documents/youngStars/veloce/spectra/fitsfiles/09nov30254.fits\n",
      "name ==  /Users/arcticfox/Documents/youngStars/veloce/spectra/fitsfiles/09nov30255.fits\n",
      "name ==  /Users/arcticfox/Documents/youngStars/veloce/spectra/fitsfiles/09nov30256.fits\n",
      "name ==  /Users/arcticfox/Documents/youngStars/veloce/spectra/fitsfiles/09nov30257.fits\n",
      "name ==  /Users/arcticfox/Documents/youngStars/veloce/spectra/fitsfiles/09nov30258.fits\n",
      "name ==  /Users/arcticfox/Documents/youngStars/veloce/spectra/fitsfiles/09nov30259.fits\n",
      "name ==  /Users/arcticfox/Documents/youngStars/veloce/spectra/fitsfiles/09nov30260.fits\n",
      "name ==  /Users/arcticfox/Documents/youngStars/veloce/spectra/fitsfiles/09nov30271.fits\n",
      "name ==  /Users/arcticfox/Documents/youngStars/veloce/spectra/fitsfiles/09nov30272.fits\n",
      "name ==  /Users/arcticfox/Documents/youngStars/veloce/spectra/fitsfiles/09nov30273.fits\n",
      "name ==  /Users/arcticfox/Documents/youngStars/veloce/spectra/fitsfiles/09nov30274.fits\n",
      "name ==  /Users/arcticfox/Documents/youngStars/veloce/spectra/fitsfiles/09nov30275.fits\n",
      "name ==  /Users/arcticfox/Documents/youngStars/veloce/spectra/fitsfiles/09nov30276.fits\n",
      "name ==  /Users/arcticfox/Documents/youngStars/veloce/spectra/fitsfiles/09nov30277.fits\n",
      "name ==  /Users/arcticfox/Documents/youngStars/veloce/spectra/fitsfiles/09nov30278.fits\n",
      "name ==  /Users/arcticfox/Documents/youngStars/veloce/spectra/fitsfiles/09nov30279.fits\n",
      "Done!!!\n"
     ]
    }
   ],
   "source": [
    "medbias, coeffs, offsets, rons = get_bias_and_readnoise_from_bias_frames(files_on_date['bias'],\n",
    "                                                                         degpol=5,\n",
    "                                                                         clip=5,\n",
    "                                                                         gain=[0.88,0.93,0.99,0.93],\n",
    "                                                                         save_medimg=True,\n",
    "                                                                         path=path,\n",
    "                                                                         date=date)"
   ]
  },
  {
   "cell_type": "code",
   "execution_count": 6,
   "metadata": {},
   "outputs": [
    {
     "name": "stdout",
     "output_type": "stream",
     "text": [
      "Time elapsed: 0.8 seconds\n",
      "Time elapsed: 14.0 seconds\n"
     ]
    }
   ],
   "source": [
    "offmask,ronmask = make_offmask_and_ronmask(offsets, rons, nx, \n",
    "                                           ny, gain=gain, savefiles=True, \n",
    "                                           path=path, timit=True)\n",
    "MB = make_master_bias_from_coeffs(coeffs, nx, ny, savefile=True, \n",
    "                                  path=path, timit=True, date=date)"
   ]
  },
  {
   "cell_type": "markdown",
   "metadata": {},
   "source": [
    "### Master dark"
   ]
  },
  {
   "cell_type": "code",
   "execution_count": 7,
   "metadata": {},
   "outputs": [],
   "source": [
    "MD = make_master_dark(files_on_date['dark'], medbias, gain=gain, \n",
    "                      savefile=True, path=path,\n",
    "                      date=date)"
   ]
  },
  {
   "cell_type": "markdown",
   "metadata": {},
   "source": [
    "### Master white"
   ]
  },
  {
   "cell_type": "code",
   "execution_count": 8,
   "metadata": {},
   "outputs": [
    {
     "name": "stdout",
     "output_type": "stream",
     "text": [
      "The autoreload extension is already loaded. To reload it, use:\n",
      "  %reload_ext autoreload\n"
     ]
    }
   ],
   "source": [
    "%load_ext autoreload\n",
    "%autoreload 2\n",
    "from veloce_reduction.process_scripts import *"
   ]
  },
  {
   "cell_type": "code",
   "execution_count": null,
   "metadata": {},
   "outputs": [],
   "source": [
    "MW,err_MW = process_whites(files_on_date['flat'], \n",
    "                           MB=crop_overscan_region(MB), \n",
    "                           ronmask=crop_overscan_region(ronmask), \n",
    "                           MD=MD, date=date,\n",
    "                           gain=gain, scalable=False, \n",
    "                           fancy=False, clip=5., savefile=True, \n",
    "                           saveall=False, diffimg=False, path=path, timit=False,\n",
    "                           remove_bg=False)"
   ]
  },
  {
   "cell_type": "markdown",
   "metadata": {},
   "source": [
    "### Tracing & Extracting Orders"
   ]
  },
  {
   "cell_type": "code",
   "execution_count": null,
   "metadata": {},
   "outputs": [],
   "source": [
    "MW = np.nanmedian(MW, axis=0)\n",
    "err_MW = np.nanmedian(err_MW, axis=0)"
   ]
  },
  {
   "cell_type": "code",
   "execution_count": null,
   "metadata": {},
   "outputs": [],
   "source": [
    "P,tempmask = find_stripes(MW, deg_polynomial=2, min_peak=0.05, \n",
    "                          gauss_filter_sigma=3., simu=False)"
   ]
  },
  {
   "cell_type": "code",
   "execution_count": null,
   "metadata": {},
   "outputs": [],
   "source": [
    "P_id = make_P_id(P)\n",
    "mask = make_mask_dict(tempmask)\n",
    "\n",
    "MW_stripes,MW_indices = extract_stripes(MW, P_id, return_indices=True, slit_height=5)"
   ]
  }
 ],
 "metadata": {
  "kernelspec": {
   "display_name": "Python 3",
   "language": "python",
   "name": "python3"
  },
  "language_info": {
   "codemirror_mode": {
    "name": "ipython",
    "version": 3
   },
   "file_extension": ".py",
   "mimetype": "text/x-python",
   "name": "python",
   "nbconvert_exporter": "python",
   "pygments_lexer": "ipython3",
   "version": "3.7.3"
  }
 },
 "nbformat": 4,
 "nbformat_minor": 2
}
